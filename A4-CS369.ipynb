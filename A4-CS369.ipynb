{
 "cells": [
  {
   "cell_type": "markdown",
   "metadata": {},
   "source": [
    "# Assignment 4 | COMPSCI 369\n",
    "\n",
    "- Sabaoon Raza Khan\n",
    "- skha787 \n",
    "- 983957824\n",
    "\n",
    "<br><hr> \n",
    "### Importing all necessary modules and packages:"
   ]
  },
  {
   "cell_type": "code",
   "execution_count": 1,
   "metadata": {
    "collapsed": true
   },
   "outputs": [],
   "source": [
    "import numpy\n",
    "import pandas"
   ]
  },
  {
   "cell_type": "markdown",
   "metadata": {},
   "source": [
    "<hr><br>\n",
    "### Problem 1: \n",
    "**Implementing and applying the overlap alignment algorithm.**<br><br>\n",
    "\n",
    "<hr>\n",
    "**(a)**\n",
    "**Overlap Alignment** = Global type alignment that does not penalize the unmatched overhanging ends.\n",
    "- The boundary conditions are F(i, 0) = F(0, j) = 0 for all i, j\n",
    "- The recurrence relation is just the global recurrence.\n",
    "- Start the traceback at the position on the boundary where a maximum is achieved, F(i, m) or F(n, j).\n",
    "- The traceback stops when the other border is reached, F(i, 0) or F(0, j)."
   ]
  },
  {
   "cell_type": "code",
   "execution_count": null,
   "metadata": {
    "collapsed": false
   },
   "outputs": [],
   "source": [
    "Pseudocode for global alignment\n",
    "\n",
    "\n",
    "% make the F matrix\n",
    "\n",
    "1   for i = 0 to length(A)\n",
    "2       F(i, 0) <- d*i\n",
    "3   for j = 0 to length(B)\n",
    "4       F(0, j) <- d*j\n",
    "5   for i = 1 to length(A)\n",
    "6       for j = 1 to length(B)\n",
    "7       {\n",
    "8         Match <- F(i-1, j-1) + S(Ai, Bj)\n",
    "9         Delete <- F(i-1, j) + d\n",
    "10        Insert <- F(i, j-1) + d\n",
    "11        F(i, j) <- max(Match, Insert, Delete)\n",
    "12      }\n",
    "\n",
    "\n",
    "% backtrack and form alignment\n",
    "\n",
    "13  AlignmentA <- \"\"\n",
    "14  AlignmentB <- \"\"\n",
    "15  i <- length(A)\n",
    "16  j <- length(B)\n",
    "17  while (i > 0 or j > 0)\n",
    "18  {\n",
    "19      if (i > 0 and j > 0 and F(i, j) == F(i-1, j-1) + S(Ai, Bj))\n",
    "20      {\n",
    "21          AlignmentA <- Ai + AlignmentA\n",
    "22          AlignmentB <- Bj + AlignmentB\n",
    "23          i <- i - 1\n",
    "24          j <- j - 1\n",
    "25      }\n",
    "26      else if (i > 0 and F(i, j) == F(i-1, j) + d)\n",
    "27      {\n",
    "28          AlignmentA <- Ai + AlignmentA\n",
    "29          AlignmentB <- \"-\" + AlignmentB\n",
    "30          i <- i - 1\n",
    "31      }\n",
    "32      else (j > 0 and F(i, j) == F(i, j-1) + d)\n",
    "33      {\n",
    "34          AlignmentA <- \"-\" + AlignmentA\n",
    "35          AlignmentB <- Bj + AlignmentB\n",
    "36          j <- j - 1\n",
    "37      }\n",
    "38  }"
   ]
  },
  {
   "cell_type": "markdown",
   "metadata": {},
   "source": [
    "**Converting the Pseudocode for Global Alignment to Overlap Alignment:**\n",
    "<br>\n",
    "- Altering lines: 2, 4\n",
    "- Added lines: 17-36 & 59-61"
   ]
  },
  {
   "cell_type": "code",
   "execution_count": null,
   "metadata": {
    "collapsed": false
   },
   "outputs": [],
   "source": [
    "Pseudocode for Overlap Alignment\n",
    "\n",
    "\n",
    "% make the F matrix\n",
    "\n",
    "1   for i = 0 to length(A)\n",
    "2       F(i, 0) <- 0\n",
    "3   for j = 0 to length(B)\n",
    "4       F(0, j) <- 0\n",
    "5   for i = 1 to length(A)\n",
    "6       for j = 1 to length(B)\n",
    "7       {\n",
    "8           Match <- F(i-1, j-1) + S(Ai, Bj)\n",
    "9           Delete <- F(i-1, j) + d\n",
    "10          Insert <- F(i, j-1) + d\n",
    "11          F(i, j) <- max(Match, Insert, Delete)\n",
    "12      }\n",
    "\n",
    "\n",
    "% backtrack and form alignment\n",
    "\n",
    "13  AlignmentA <- \"\"\n",
    "14  AlignmentB <- \"\"\n",
    "15  i <- length(A)\n",
    "16  j <- length(B)\n",
    "\n",
    "\n",
    "    % Pseudocode Added\n",
    "    \n",
    "17  % Append non-overlapping sequence or gaps (Before)\n",
    "18  AlignmentA = A[i+1:] if i+1 < length(A) else '-' * (length(B) - j - 1)\n",
    "19  AlignmentB = B[j+1:] if j+1 < length(B) else '-' * (length(A) - i - 1)\n",
    "    \n",
    "20  rowMax <- 0\n",
    "21  for b = 0 to length(B)\n",
    "22      if (F(i-1, b) >= F(i-1, b+1)) {\n",
    "23         rowMax <- b }\n",
    "24      else (F(i-1, b) < F(i-1, b+1)) {\n",
    "25          rowMax <- b+1 }       \n",
    "26  colMax <- 0    \n",
    "27  for a = 0 to length(A)\n",
    "28      if (F(a, j-1) >= F(a+1, j-1)) {\n",
    "29          colMax <- a }\n",
    "30      else (F(a, j-1) < F(a+1, j-1)) {\n",
    "31          colMax <- +1 }\n",
    "32  maxBoundary <- max(rowMax, colMax)\n",
    "33  if (rowMax >= colMax) {\n",
    "34      j <- maxBoundary }\n",
    "35  else {\n",
    "36      i <- maxBoundary }\n",
    "    \n",
    "    \n",
    "37  while (i > 0 or j > 0)\n",
    "38  {\n",
    "39      if (i > 0 and j > 0 and F(i, j) == F(i-1, j-1) + S(Ai, Bj))\n",
    "40      {\n",
    "41          AlignmentA <- Ai + AlignmentA\n",
    "42          AlignmentB <- Bj + AlignmentB\n",
    "43          i <- i - 1\n",
    "44          j <- j - 1\n",
    "45      }\n",
    "46      else if (i > 0 and F(i, j) == F(i-1, j) + d)\n",
    "47      {\n",
    "48          AlignmentA <- Ai + AlignmentA\n",
    "49          AlignmentB <- \"-\" + AlignmentB\n",
    "50          i <- i - 1\n",
    "51      }\n",
    "52      else (j > 0 and F(i, j) == F(i, j-1) + d)\n",
    "53      {\n",
    "54          AlignmentA <- \"-\" + AlignmentA\n",
    "55          AlignmentB <- Bj + AlignmentB\n",
    "56          j <- j - 1\n",
    "57      }\n",
    "58  }\n",
    "\n",
    "59  % Append non-overlapping sequence or gaps (After)\n",
    "60  AlignmentA = (A[:i] if i > 0 else '-' * j) + AlignmentA\n",
    "61  AlignmentB = (B[:j] if j > 0 else '-' * i) + AlignmentB"
   ]
  },
  {
   "cell_type": "markdown",
   "metadata": {},
   "source": [
    "<br><br><hr>\n",
    "\n",
    "**(b)** The pseudo-code produces a single alignment with the optimal score. Is this\n",
    "alignment the same regardless of the order in which the two sequences are\n",
    "passed as arguments to the method? Explain why or why not.  \n",
    "  \n",
    "**Answer:**  \n",
    "The alignment is not the same regardless of the order in which the two sequences are\n",
    "passed as arguments to the method."
   ]
  },
  {
   "cell_type": "markdown",
   "metadata": {},
   "source": [
    "<br><br><hr>\n",
    "\n",
    "**(c) Overlap Alignment** algorithm implemented based on the pseudo-code produced in part (a).  \n",
    "\n",
    "**Input Parameters:**\n",
    "- Two sequences\n",
    "- Score matrix\n",
    "- Linear gap penalty.   \n",
    "\n",
    "**Returns:** Single alignment with the optimal score."
   ]
  },
  {
   "cell_type": "code",
   "execution_count": 2,
   "metadata": {
    "collapsed": false
   },
   "outputs": [],
   "source": [
    "# A = Sequence on y-axis\n",
    "# B = Sequence on x-axis\n",
    "# S = Score Matrix (BLOSUM62)\n",
    "# d = Gap Penalty\n",
    "\n",
    "def overlap_alignment(A, B, S, d):                                                        \n",
    "\n",
    "    # --------------------------------------------------------------------------------------------------------------------- \n",
    "    \n",
    "    # Creating the score value matrix\n",
    "    score = [['-' for J in range(len(B) + 1)] for I in range(len(A) + 1)]\n",
    "    # Pointer matrix for backtracking \n",
    "    pointer = [['-' for J in range(len(B) + 1)] for I in range(len(A) + 1)]\n",
    "    \n",
    "    # Overlap alignment does not penalize the unmatched overhanging ends\n",
    "    for i in range(len(A) + 1):\n",
    "        score[i][0] = 0\n",
    "        pointer[i][0] = 1\n",
    "        \n",
    "    for j in range(len(B) + 1):\n",
    "        score[0][j] = 0 \n",
    "        pointer[0][j] = 2\n",
    "\n",
    "    # Scoring the sequence alignment    \n",
    "    for i in range(1, len(A)+1):    \n",
    "        for j in range(1, len(B)+1):\n",
    "            diag = score[i-1][j-1] + S[A[i-1]][B[j-1]]\n",
    "            left = score[i][j-1] + d\n",
    "            up = score[i-1][j] + d\n",
    "            score[i][j] = int(max(diag, up, left))\n",
    "\n",
    "            # 3 = Diagonal trace\n",
    "            # 2 = Left trace\n",
    "            # 1 = Up trace\n",
    "            \n",
    "            if score[i][j] == diag:\n",
    "                pointer[i][j] = 3\n",
    "            elif score[i][j] == left:\n",
    "                pointer[i][j] = 2\n",
    "            elif score[i][j] == up :\n",
    "                pointer[i][j] = 1\n",
    "                \n",
    "    #print(numpy.asarray(pointer)) \n",
    "    \n",
    "    # ---------------------------------------------------------------------------------------------------------------------           \n",
    "            \n",
    "    # Finding the position on the boundary where a maximum is achieved.\n",
    "    scoreArray = numpy.asarray(score)                                       # Converting to numpy array\n",
    "    col_max = numpy.argmax(scoreArray, axis = 0)                            # Returns index of highest value in each column\n",
    "    row_max = numpy.argmax(scoreArray, axis = 1)                            # Returns index of highest value in each row\n",
    "\n",
    "    maxVal = 0\n",
    "    if scoreArray[col_max[-1]][len(B)] > scoreArray[len(A)][row_max[-1]]:   # Checking if value in last column > last row\n",
    "        i = col_max[-1]\n",
    "        j = len(B)\n",
    "        maxVal = scoreArray[i][j]                                           \n",
    "    else: \n",
    "        i = len(A)\n",
    "        j = row_max[-1]\n",
    "        maxVal = scoreArray[i][j]                                           # Assigning position of where max is achieved\n",
    "           \n",
    "            \n",
    "    #print(\"Alignment Score Matrix:\\n\", scoreArray, sep=\"\")    \n",
    "    #print(\"\\nIndex of max value at boundary:\\n\", \"(i, j) = (\", i, \", \", j, \")\", sep=\"\")\n",
    "    \n",
    "    # ---------------------------------------------------------------------------------------------------------------------    \n",
    "        \n",
    "    # Backtrack and form alignment:\n",
    "       \n",
    "    # Append non-overlapping sequence or gaps (Before)\n",
    "    alignment_A = A[i+1:] if i+1 < len(A) else '-' * (len(B) - j - 1)\n",
    "    alignment_B = B[j+1:] if j+1 < len(B) else '-' * (len(A) - i - 1)\n",
    "    \n",
    "    \n",
    "    # 3 = Diagonal trace\n",
    "    # 2 = Left trace\n",
    "    # 1 = Up trace\n",
    "            \n",
    "    while True: \n",
    "        if (pointer[i][j] == 3):                   # diag = score[i-1][j-1] + S[A[i-1]][B[j-1]]\n",
    "            alignment_B = B[j - 1] + alignment_B\n",
    "            alignment_A = A[i - 1] + alignment_A\n",
    "            i -= 1\n",
    "            j -= 1\n",
    "        elif (pointer[i][j] == 2):                 # left = score[i][j-1] + d\n",
    "            alignment_A = '-' + alignment_A\n",
    "            alignment_B = B[j - 1] + alignment_B\n",
    "            j -= 1\n",
    "        elif (pointer[i][j] == 1):                 # up = score[i-1][j] + d\n",
    "            alignment_A = A[i - 1] + alignment_A\n",
    "            alignment_B = '-' + alignment_B\n",
    "            i -= 1\n",
    "            \n",
    "        if (i == 0 or j == 0): break\n",
    "        \n",
    "        \n",
    "    # Append non-overlapping sequence or gaps (After)\n",
    "    alignment_A = (A[:i] if i > 0 else '-' * j) + alignment_A\n",
    "    alignment_B = (B[:j] if j > 0 else '-' * i) + alignment_B\n",
    "    \n",
    "    # ---------------------------------------------------------------------------------------------------------------------\n",
    "    \n",
    "    print(\"\\nOptimal alignment:\\n\", alignment_A, \"\\n\", alignment_B, sep=\"\")\n",
    "    print(\"\\nOptimal alignment score:\", maxVal) "
   ]
  },
  {
   "cell_type": "markdown",
   "metadata": {},
   "source": [
    "<br><br><hr>\n",
    "\n",
    "**(d)** Uniprot is an online protein sequence database from where the files have been downloaded.  \n",
    "Importing & printing protein sequences with accession numbers $H0Y8P2$ and $N1J540$."
   ]
  },
  {
   "cell_type": "code",
   "execution_count": 3,
   "metadata": {
    "collapsed": false
   },
   "outputs": [
    {
     "name": "stdout",
     "output_type": "stream",
     "text": [
      "\n",
      "Protein sequence with accession number H0Y8P2:\n",
      "XILESPEHLPSNFLAQPVNDSAPHPESDATCQQPVKQMRLKKAIHLKKLNFLKSQKYAEQVSEPKSDDGLTKRLESASKNTLEKASSQSAEEKESEEVVSCENFNCISETERPEDPAALEDQSQTLQSQRQYACELCGKPFKHPSNLELHKRSHTGKCFGGSGDLRRHVRTHTG\n",
      "\n",
      "Protein sequence with accession number N1J540:\n",
      "MHPAQLSKLLSIPDSHAQEILDYAATLSKDEAVNHFREFLGNSLEMRNFISAYELQREGSMTSQNTGAPANVTRISNKNTASHKSMSKGVPATSTSKISQKKMTQNDYTAASKKTQFGTSTHSSNPSGPIAHPSNLYPGLNQSKEKNARNGSPAFPNKVKIAISGGQSMHGTSTTISEIEAAIRSLEISTNSSLSSQDPSKRACNCIATQHPLLTAAPNCLSCGKVICVKEGFGPCTYCGEPLLSAVEVQKMISVLREDCGREKMLANDQRQKHATASSNSKPFPQSQPINTQISRAELEARTHRDKLLAFQAQNAKRTTVRDEVAEVNVDLAAVERDMIWATPVERARALKKQQKLLQEQEWNARPEYERKRMVVSLNVVGGKVVKNIGRTERRPQADLIAAAEKSSLEKEEMEPVAQEQGHSTQVFRRNPLELQQQKKPAYTWRRVQDNQDDNESYILDGGLKGREVD\n"
     ]
    }
   ],
   "source": [
    "def read_fasta(file):\n",
    "    name, sequence = None, []\n",
    "    for line in file:\n",
    "        line = line.rstrip()                           # Removing all whitespace characters from the end of line\n",
    "        if line.startswith(\">\"):                       # Separating file name from sequence\n",
    "            if name: yield (name, ''.join(sequence))\n",
    "            name, sequence = line, []\n",
    "        else:\n",
    "            sequence.append(line)\n",
    "    if name: yield (name, ''.join(sequence))           # Returns sequence of type \"string\"\n",
    "\n",
    "        \n",
    "def print_fasta(filename):\n",
    "    title = filename.rpartition('.')[0]                # Partitioning & getting filename before \".\"\n",
    "    with open(filename) as file:                       # Opening given file\n",
    "        for name, sequence in read_fasta(file):        # Reading file using read_fasta function\n",
    "            print(\"Protein sequence with accession number \", title, \":\\n\", sequence, sep=\"\")\n",
    "\n",
    "            \n",
    "def return_sequence(filename):\n",
    "    with open(filename) as file:                       \n",
    "        for name, sequence in read_fasta(file):        \n",
    "            return sequence\n",
    "            \n",
    "            \n",
    "# Printing sequences given filenames            \n",
    "print()\n",
    "print_fasta('H0Y8P2.fasta')\n",
    "print()\n",
    "print_fasta('N1J540.fasta')"
   ]
  },
  {
   "cell_type": "markdown",
   "metadata": {},
   "source": [
    "<br><br><hr>\n",
    "\n",
    "**(e)** Both of these sequences contain a zinc-finger, which is a small protein region that binds to zinc. \n",
    "There are multiple classes of zinc finger. \n",
    "A protein sequence from the $Cys2His2$ class is: $YECENCAKVFTDPSNLQ$  \n",
    "\n",
    "Using the overlap alignment algorithm with the given BLOSUM62 matrix\n",
    "and a gap penalty of 8, we find and print an optimal alignment between $H0Y8P2$\n",
    "and the given zinc-finger sequence and $N1J540$ and the given zinc-finger sequence.\n",
    "\n",
    "<br><br>\n",
    "\n",
    "**Reading in the BLOSUM62 Matrix:**"
   ]
  },
  {
   "cell_type": "code",
   "execution_count": 4,
   "metadata": {
    "collapsed": true
   },
   "outputs": [],
   "source": [
    "def readBLOSUM62():\n",
    "\n",
    "    text_file = open(\"blosum62.txt\", \"r\")\n",
    "    A = text_file.read().split(\"\\n\")\n",
    "    blosum62 = numpy.zeros([23, 23])\n",
    "    for i in range(1,24):\n",
    "        lineSplit = A[i].split(\"\\t\")\n",
    "        for j in range(1,24):\n",
    "            blosum62[i-1,j-1] = lineSplit[j]\n",
    "\n",
    "    # The first 20 rows/columns are amino acids and the last 3 represent unknowns\n",
    "    names = [\"A\",\"R\",\"N\",\"D\",\"C\",\"Q\",\"E\",\"G\",\"H\",\"I\",\"L\",\"K\",\"M\",\"F\",\"P\",\"S\",\"T\",\"W\",\"Y\",\"V\",\"B\",\"Z\",\"X\"]\n",
    "    BLOSUM_df = pandas.DataFrame(blosum62, index=names, columns=names)\n",
    "    \n",
    "    return BLOSUM_df"
   ]
  },
  {
   "cell_type": "markdown",
   "metadata": {},
   "source": [
    "Initialising variables:"
   ]
  },
  {
   "cell_type": "code",
   "execution_count": 5,
   "metadata": {
    "collapsed": false
   },
   "outputs": [],
   "source": [
    "# Read in the matrix from the blosum62.txt file. \n",
    "BLOSUM62 = readBLOSUM62()                       # Represents Score Matrix\n",
    "\n",
    "H0Y8P2 = return_sequence('H0Y8P2.fasta')\n",
    "N1J540 = return_sequence('N1J540.fasta')\n",
    "Cys2His2 = \"YECENCAKVFTDPSNLQ\"                  # Zinc-finger sequence\n",
    "\n",
    "gap_penalty = -8"
   ]
  },
  {
   "cell_type": "markdown",
   "metadata": {},
   "source": [
    "<br>\n",
    "**Optimal alignment between H0Y8P2 and the given zinc-finger sequence.**"
   ]
  },
  {
   "cell_type": "code",
   "execution_count": 6,
   "metadata": {
    "collapsed": false
   },
   "outputs": [
    {
     "name": "stdout",
     "output_type": "stream",
     "text": [
      "\n",
      "Optimal alignment:\n",
      "XILESPEHLPSNFLAQPVNDSAPHPESDATCQQPVKQMRLKKAIHLKKLNFLKSQKYAEQVSEPKSDDGLTKRLESASKNTLEKASSQSAEEKESEEVVSCENFNCISETERPEDPAALEDQSQTLQSQRQYACELCGKPFKHPSNLEHKRSHTGKCFGGSGDLRRHVRTHTG\n",
      "-----------------------------------------------------------------------------------------------------------------------------------YECENCAKVFTDPSNLQ-------------------------\n",
      "\n",
      "Optimal alignment score: 56\n",
      "\n"
     ]
    }
   ],
   "source": [
    "overlap_alignment(H0Y8P2, Cys2His2, BLOSUM62, gap_penalty)\n",
    "print()"
   ]
  },
  {
   "cell_type": "markdown",
   "metadata": {},
   "source": [
    "<br>\n",
    "**Optimal alignment between N1J540 and the given zinc-finger sequence.**"
   ]
  },
  {
   "cell_type": "code",
   "execution_count": 7,
   "metadata": {
    "collapsed": false
   },
   "outputs": [
    {
     "name": "stdout",
     "output_type": "stream",
     "text": [
      "\n",
      "Optimal alignment:\n",
      "MHPAQLSKLLSIPDSHAQEILDYAATLSKDEAVNHFREFLGNSLEMRNFISAYELQREGSMTSQNTGAPANVTRISNKNTASHKSMSKGVPATSTSKISQKKMTQNDYTAASKKTQFGTSTHSSNPSGPIAHPSNLYGLNQSKEKNARNGSPAFPNKVKIAISGGQSMHGTSTTISEIEAAIRSLEISTNSSLSSQDPSKRACNCIATQHPLLTAAPNCLSCGKVICVKEGFGPCTYCGEPLLSAVEVQKMISVLREDCGREKMLANDQRQKHATASSNSKPFPQSQPINTQISRAELEARTHRDKLLAFQAQNAKRTTVRDEVAEVNVDLAAVERDMIWATPVERARALKKQQKLLQEQEWNARPEYERKRMVVSLNVVGGKVVKNIGRTERRPQADLIAAAEKSSLEKEEMEPVAQEQGHSTQVFRRNPLELQQQKKPAYTWRRVQDNQDDNESYILDGGLKGREVD\n",
      "------------------------------------------------------------------------------------------------------------------------YECENCAKVFTDPSNLQ--------------------------------------------------------------------------------------------------------------------------------------------------------------------------------------------------------------------------------------------------------------------------------------------------------------------------------------------\n",
      "\n",
      "Optimal alignment score: 16\n",
      "\n"
     ]
    }
   ],
   "source": [
    "overlap_alignment(N1J540, Cys2His2, BLOSUM62, gap_penalty)\n",
    "print()"
   ]
  },
  {
   "cell_type": "markdown",
   "metadata": {},
   "source": [
    "<br><br><hr>\n",
    "\n",
    "**(f)** Use the score of each alignment to decide which sequence has a $Cys2His2$ zinc-finger and which does not. \n",
    "Which residues in the nominated sequence contain the zinc-finger?  \n",
    "<br> \n",
    "**Answer:** <br>\n",
    "Since the alignment between H0Y8P2 and Cys2His2 gives us a greater optimal alignment score, we can say that the sequence H0Y8P2 contains the Zinc-finger."
   ]
  },
  {
   "cell_type": "code",
   "execution_count": 8,
   "metadata": {
    "collapsed": false
   },
   "outputs": [
    {
     "name": "stdout",
     "output_type": "stream",
     "text": [
      "\n",
      "Residues 131 to 148 contain the zinc-finger in the nominated sequence.\n"
     ]
    }
   ],
   "source": [
    "nominated = H0Y8P2\n",
    "found_sequence = \"YACELCGKPFKHPSNLE\"\n",
    "residue_start = nominated.find(found_sequence)\n",
    "end = len(found_sequence)\n",
    "\n",
    "print(\"\\nResidues \", residue_start, \" to \", residue_start+end, \" contain the zinc-finger in the nominated sequence.\", sep=\"\")"
   ]
  },
  {
   "cell_type": "markdown",
   "metadata": {},
   "source": [
    "<hr><br><br>\n",
    "### Problem 2: \n",
    "**Application of the Hidden Markov Model (HMM).**<br><br>\n",
    "\n",
    "We assume that at each point of the sequence, the residue is associated with one\n",
    "of three secondary structures: α-helix, β-strand and loops which we label H, S\n",
    "and T, respectively. To simplify the problem, we classify the amino acids as either\n",
    "hydrophobic, hydrophilic or neutral (B, I or N, respectively) so a sequence can be\n",
    "represented by this 3-letter alphabet.<br><br>\n",
    "In a α-helix, the residues are 35% hydrophobic, 55% hydrophilic and 10% neutral.\n",
    "In a β-strand, the respective proportions are 55%, 15%, 30% and in a loop they\n",
    "are 10%, 10%, 80%.<br><br>\n",
    "Assume that all secondary structures have geometrically distributed length with\n",
    "α-helices having mean 20 residues, β-strands having a mean of 12 residues and\n",
    "loops a mean of 10 residues. A β-strand is followed by an α-helix 40% of the time\n",
    "and a loop 60% of the time. An α-helix is followed by a β-strand 20% of the time\n",
    "and a loop 80% of the time and a loop is equally likely to be followed by a strand\n",
    "or a helix. At the start of a sequence, any structure is equally likely.\n",
    "<br><br><br><hr>\n",
    "**(a) Deriving the transition probabilities:**"
   ]
  },
  {
   "cell_type": "code",
   "execution_count": 9,
   "metadata": {
    "collapsed": false
   },
   "outputs": [
    {
     "name": "stdout",
     "output_type": "stream",
     "text": [
      "\n",
      "Transition Probabilities:\n",
      "\n",
      "H -> H: 0.950000  |  H -> S: 0.010000  |  H -> T: 0.040000\n",
      "S -> H: 0.033333  |  S -> S: 0.916667  |  S -> T: 0.050000\n",
      "T -> H: 0.050000  |  T -> S: 0.050000  |  T -> T: 0.900000\n"
     ]
    }
   ],
   "source": [
    "STATES = ('H', 'S', 'T')\n",
    "\n",
    "# L is geometrically distributed with parameter p, then E[L] = 1/p\n",
    "H_p = 1/20\n",
    "S_p = 1/12\n",
    "T_p = 1/10\n",
    "\n",
    "# Probability: (Failure = 1 - Success) & Vice-versa\n",
    "HH = 1 - (H_p)\n",
    "SS = 1 - (S_p)\n",
    "TT = 1 - (T_p)\n",
    "\n",
    "# Creating python dictionary for easy assignment & access\n",
    "a = {\n",
    "'H': {'H': HH, 'S': 0.2*H_p, 'T': 0.8*H_p},\n",
    "'S': {'H': 0.4*S_p, 'S': SS, 'T': 0.6*S_p},\n",
    "'T': {'H': 0.5*T_p, 'S': 0.5*T_p, 'T': TT},\n",
    "}\n",
    "\n",
    "print(\"\\nTransition Probabilities:\\n\")\n",
    "for x in a:\n",
    "    print('{} -> {}: {:<6f}  |  {} -> {}: {:<6f}  |  {} -> {}: {:<6f}'.format(x,'H', a[x]['H'],x,'S', a[x]['S'],x,'T', a[x]['T']))"
   ]
  },
  {
   "cell_type": "markdown",
   "metadata": {},
   "source": [
    "<br><br><hr>\n",
    "\n",
    "**(b) Diagram of the HMM:** (Showing only state nodes and transitions)"
   ]
  },
  {
   "cell_type": "code",
   "execution_count": 10,
   "metadata": {
    "collapsed": false
   },
   "outputs": [
    {
     "data": {
      "image/png": "[encoded data removed]",
      "text/plain": [
       "<IPython.core.display.Image object>"
      ]
     },
     "execution_count": 10,
     "metadata": {},
     "output_type": "execute_result"
    }
   ],
   "source": [
    "from IPython.display import Image\n",
    "Image(filename=\"HMM.PNG\")"
   ]
  },
  {
   "cell_type": "markdown",
   "metadata": {},
   "source": [
    "**Emission probabilities for each state shown in the following table:**"
   ]
  },
  {
   "cell_type": "code",
   "execution_count": 11,
   "metadata": {
    "collapsed": false
   },
   "outputs": [],
   "source": [
    "SYMBOLS = ('B', 'I', 'N')\n",
    "\n",
    "# Python Dictionary\n",
    "e = {\n",
    "'H': {'B': 0.35, 'I': 0.55, 'N': 0.10},\n",
    "'S': {'B': 0.55, 'I': 0.15, 'N': 0.30},\n",
    "'T': {'B': 0.10, 'I': 0.10, 'N': 0.80},\n",
    "}"
   ]
  },
  {
   "cell_type": "markdown",
   "metadata": {},
   "source": [
    "<table style=\"width:25%\">\n",
    "  <tr>\n",
    "    <th></th>\n",
    "    <th>B</th> \n",
    "    <th>I</th>\n",
    "    <th>N</th>\n",
    "  </tr>\n",
    "  <tr>\n",
    "    <th>H</th>\n",
    "    <td>0.35</td>\n",
    "    <td>0.55</td>\n",
    "    <td>0.10</td>\n",
    "  </tr>\n",
    "  <tr>\n",
    "    <th>S</th>\n",
    "    <td>0.55</td>\n",
    "    <td>0.15</td>\n",
    "    <td>0.30</td>\n",
    "  </tr>\n",
    "  <tr>\n",
    "    <th>T</th>\n",
    "    <td>0.10</td>\n",
    "    <td>0.10</td>\n",
    "    <td>0.80</td>\n",
    "  </tr>\n",
    "</table>"
   ]
  },
  {
   "cell_type": "markdown",
   "metadata": {},
   "source": [
    "<br><br><hr>\n",
    "\n",
    "**(c)** Method to simulate state and symbol sequences of arbitrary length from the HMM. \n",
    "<br><br>\n",
    "**Parameters:**\n",
    "- Sequence length\n",
    "- a (Transition Probabilities)\n",
    "- e (Emission Probabilities)\n",
    "\n",
    "**Return:**\n",
    "- Simulate and print out a state and symbol sequence of length 150."
   ]
  },
  {
   "cell_type": "code",
   "execution_count": 12,
   "metadata": {
    "collapsed": false
   },
   "outputs": [
    {
     "name": "stdout",
     "output_type": "stream",
     "text": [
      "\n",
      "State Sequence:\n",
      "H H H H H H H H H H H H H H H H H H H H H H H H H H H T T T T T T T T T T T T T T T T T T T T T T T\n",
      "T T T T T T T T T T T H H H H H H H H H H S S S S S S S S S S H H H H T T T T T T T H H H H H H H H\n",
      "H H H H H H H H H H H H H H H H H H H H H H H H H H H H H H H H H H H H H T T T T T T H H H H H H H\n",
      "\n",
      "Symbol Sequence:\n",
      "B B B I B I B I N I B I N I B I N I I N B I I N I B I N N N I N N N N N N N N N I B I N N N N N N B\n",
      "N N N N N I N N N B N B I I I N B I B B B B N N N B N B B N N B I I I N N N N N I N B B I I I I I I\n",
      "I B B I I I I B I B I N B I I I B N B B B I N I I B B I N I I I I B B I I N N N N N B I I I I I B B\n"
     ]
    }
   ],
   "source": [
    "def HMM_Simulation(length, a, e):\n",
    "    states = []\n",
    "    symbols = []\n",
    "    if length > 0:\n",
    "        states.append(numpy.random.choice(STATES)) # Initial state for the sequence is distributed uniformly\n",
    "        # Getting symbol based on \"last\" state\n",
    "        symbols.append(numpy.random.choice(SYMBOLS, p = [e[states[-1]][_] for _ in SYMBOLS])) \n",
    "        for num in range(1, length): # Not executed if length = 1\n",
    "            states.append(numpy.random.choice(STATES, p = [a[states[-1]][_] for _ in STATES]))\n",
    "            symbols.append(numpy.random.choice(SYMBOLS, p = [e[states[-1]][_] for _ in SYMBOLS]))\n",
    "    return states, symbols\n",
    "\n",
    "#----------------------------------------------------------------------------------------------------------------------------\n",
    "\n",
    "states, symbols = HMM_Simulation(150, a, e) # Given parameters\n",
    "\n",
    "print(\"\\nState Sequence:\")\n",
    "print('\\n'.join(' '.join(s) for s in numpy.array_split(states, 3))) # Splitting sequence into 3 parts to output\n",
    "\n",
    "print(\"\\nSymbol Sequence:\")\n",
    "print('\\n'.join(' '.join(s) for s in numpy.array_split(symbols, 3)))"
   ]
  },
  {
   "cell_type": "markdown",
   "metadata": {},
   "source": [
    "<br><br><hr>\n",
    "\n",
    "**(d)** Calculating the *natural* logarithm of the joint probability $P(x, π)$. \n",
    "\n",
    "We know, $$P(x,\\pi) = P(x,\\pi|\\mathbf{e,a}) = a_{0 \\pi_1} \\prod_{i = 1}^L e_{\\pi_i}(x_i)a_{\\pi_i \\pi_{i+1}}$$\n",
    "\n",
    "Taking it's log:\n",
    "$$log(P(x,\\pi)) = log(P(x,\\pi|\\mathbf{e,a})) = log(a_{0 \\pi_1} \\prod_{i = 1}^L e_{\\pi_i}(x_i)a_{\\pi_i \\pi_{i+1}})$$\n",
    "$$log(P(x,\\pi)) = log(P(x,\\pi|\\mathbf{e,a})) = log(a_{0 \\pi_1})+log( \\prod_{i = 1}^L e_{\\pi_i}(x_i)a_{\\pi_i \\pi_{i+1}})$$\n",
    "$$log(P(x,\\pi)) = log(P(x,\\pi|\\mathbf{e,a})) = log(a_{0 \\pi_1})+\\sum_{i = 1}^Llog(e_{\\pi_i}(x_i))+\\sum_{i = 1}^Llog(a_{\\pi_i \\pi_{i+1}})$$\n",
    "\n",
    "<br>\n",
    "**Parameters:**<br>\n",
    "- Take x, π, a and e as arguments.\n",
    "\n",
    "**Returns:**<br>\n",
    "- Calculates P(x, π) for π and x given and for the sequences simulated in part 2(c)."
   ]
  },
  {
   "cell_type": "code",
   "execution_count": 13,
   "metadata": {
    "collapsed": false
   },
   "outputs": [],
   "source": [
    "# Algorithm based on above formula:\n",
    "# Joint probability of state & symbol sequence\n",
    "\n",
    "def log_jointProb(states, symbols, a, e):\n",
    "    logProb = 0 # Initialising log probability\n",
    "    if len(states) > 0:\n",
    "        # Natural log (log_e = ln)\n",
    "        logProb -= numpy.log(len(STATES))\n",
    "        logProb += numpy.log(e[states[0]][symbols[0]])\n",
    "        for i in range(1, len(states)):\n",
    "            logProb += numpy.log(e[states[i]][symbols[i]])\n",
    "            logProb += numpy.log(a[states[i-1]][states[i]])\n",
    "    return logProb"
   ]
  },
  {
   "cell_type": "markdown",
   "metadata": {},
   "source": [
    "<br>\n",
    "**Log Probability for sequences in previous part:**"
   ]
  },
  {
   "cell_type": "code",
   "execution_count": 14,
   "metadata": {
    "collapsed": false
   },
   "outputs": [
    {
     "name": "stdout",
     "output_type": "stream",
     "text": [
      "-163.609330708\n"
     ]
    }
   ],
   "source": [
    "print(log_jointProb(states, symbols, a, e)) "
   ]
  },
  {
   "cell_type": "markdown",
   "metadata": {},
   "source": [
    "<br>\n",
    "**Log Probability for P(x, π) given below:**<br><br>\n",
    "$π = S,S,S,S,T,T,S,S,S,S,S,S,S,H,H,H,H,H,H,H,H,H,H,H,H$<br>\n",
    "$x = I,N,I,B,N,B,N,B,B,B,N,N,B,B,B,B,I,I,I,I,I,B,N,B,I$"
   ]
  },
  {
   "cell_type": "code",
   "execution_count": 15,
   "metadata": {
    "collapsed": false
   },
   "outputs": [
    {
     "name": "stdout",
     "output_type": "stream",
     "text": [
      "-37.2077259194\n"
     ]
    }
   ],
   "source": [
    "π = \"SSSSTTSSSSSSSHHHHHHHHHHHH\"\n",
    "x = \"INIBNBNBBBNNBBBBIIIIIBNBI\" \n",
    "\n",
    "print(log_jointProb(π, x, a, e)) "
   ]
  },
  {
   "cell_type": "markdown",
   "metadata": {},
   "source": [
    "<br><br><hr>\n",
    "\n",
    "**(e) Implementing the forward algorithm for HMMs to calculate the natural logarithm of the probability P(x).** <br>\n",
    "- *Method takes x, a and e as arguments.* \n",
    "\n",
    "<br><br>\n",
    "\n",
    "The log probability of the simulated symbols is given by the forward algorithm.  \n",
    "\n",
    "$$F_l(i) = \\log \\left[ e_l(x_i) \\sum_k  f_k(i-1)a_{kl})\\right]  = E_l(x_i) +  \\log \\left[\\sum_k  f_k(i-1)a_{kl})\\right]$$\n",
    "$$P(x) = logsum_k (F_k(L))$$\n",
    "$$log(P(x))=log(logsum_k (F_k(L)))$$"
   ]
  },
  {
   "cell_type": "code",
   "execution_count": 16,
   "metadata": {
    "collapsed": true
   },
   "outputs": [],
   "source": [
    "# logsum function as given in the notes:\n",
    "def logsum(x):\n",
    "    return x[0] + numpy.log(numpy.sum(numpy.exp(x - x[0])))\n",
    "\n",
    "def HMM_forward(x, a, e):\n",
    "    logProb = numpy.zeros(len(STATES))                                           # Creating a numpy array\n",
    "    if len(x) > 0:\n",
    "        for index, state in enumerate(STATES):                                   # Enumerate = Returns index & value\n",
    "            logProb[index] = numpy.log(e[state][x[0]]) - numpy.log(len(STATES))\n",
    "        for symbol in x[1:]:                                                     # For all symbols except at index 0\n",
    "            prev = logProb\n",
    "            logProb = numpy.zeros(len(STATES))\n",
    "            for index, state in enumerate(STATES):\n",
    "                logProb[index] = numpy.log(e[state][symbol]) + logsum([prev[y] + numpy.log(a[z][state]) for y, z in enumerate(STATES)])\n",
    "    return logsum(logProb)"
   ]
  },
  {
   "cell_type": "markdown",
   "metadata": {},
   "source": [
    "<br>\n",
    "**Calculating log(P(x)) for π and x given above:**"
   ]
  },
  {
   "cell_type": "code",
   "execution_count": 17,
   "metadata": {
    "collapsed": false
   },
   "outputs": [
    {
     "name": "stdout",
     "output_type": "stream",
     "text": [
      "-27.4657941038\n"
     ]
    }
   ],
   "source": [
    "print(HMM_forward(x, a, e))"
   ]
  },
  {
   "cell_type": "markdown",
   "metadata": {},
   "source": [
    "<br>\n",
    "**Using the forward algorithm to calculate log(P(x)) for sequences simulated in Q2(c):**"
   ]
  },
  {
   "cell_type": "code",
   "execution_count": 18,
   "metadata": {
    "collapsed": false
   },
   "outputs": [
    {
     "name": "stdout",
     "output_type": "stream",
     "text": [
      "-150.56333412\n"
     ]
    }
   ],
   "source": [
    "print(HMM_forward(symbols, a, e))"
   ]
  },
  {
   "cell_type": "markdown",
   "metadata": {},
   "source": [
    "<br>\n",
    "**How does P(x) compare to P(x, π) for the examples you calculated? \n",
    "Does this relationship hold in general? Explain your answer.**"
   ]
  },
  {
   "cell_type": "markdown",
   "metadata": {},
   "source": [
    "In both of the calculated examples, the natural log of the joint probability P(x, π) is lesser as compared to the natural log of the probability P(x), i.e. <br><br>\n",
    "$$P\\left(x, \\pi\\right) \\leq P\\left(x\\right)$$ \n",
    "In general this relationship does hold and is true because:<br><br>\n",
    "$$P\\left(x\\right) = \\sum_{\\pi^\\prime}{P\\left(x, \\pi^\\prime\\right)} = \\sum_{\\pi^\\prime\\neq\\pi}{P\\left(x, \\pi^\\prime\\right)} + P\\left(x, \\pi\\right) \\geq P\\left(x, \\pi\\right)$$\n",
    "\n",
    "<br><hr>"
   ]
  }
 ],
 "metadata": {
  "kernelspec": {
   "display_name": "Python 3",
   "language": "python",
   "name": "python3"
  },
  "language_info": {
   "codemirror_mode": {
    "name": "ipython",
    "version": 3
   },
   "file_extension": ".py",
   "mimetype": "text/x-python",
   "name": "python",
   "nbconvert_exporter": "python",
   "pygments_lexer": "ipython3",
   "version": "3.6.0"
  }
 },
 "nbformat": 4,
 "nbformat_minor": 2
}
