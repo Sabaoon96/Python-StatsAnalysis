{
 "cells": [
  {
   "cell_type": "markdown",
   "metadata": {},
   "source": [
    "# Assignment 5 | COMPSCI 369\n",
    "\n",
    "- Sabaoon Raza Khan\n",
    "- 983957824\n",
    "- skha787\n",
    "\n",
    "<br><br>\n",
    "### Importing Packages:"
   ]
  },
  {
   "cell_type": "code",
   "execution_count": 1,
   "metadata": {
    "collapsed": false
   },
   "outputs": [],
   "source": [
    "import random\n",
    "import numpy\n",
    "import pandas\n",
    "import math\n",
    "from matplotlib import pyplot as plt\n",
    "%matplotlib inline\n",
    "from tree import plot_tree\n",
    "from tree import compute_upgma_tree\n",
    "from tree import Tree\n",
    "from tree import Node\n",
    "numpy.set_printoptions(precision=3)"
   ]
  },
  {
   "cell_type": "markdown",
   "metadata": {},
   "source": [
    "<br><br>\n",
    "## Problem 1:\n",
    "\n",
    "Simple HMM to model secondary structure in proteins with *states* **H, S, T** and *symbols* **B, I, N**."
   ]
  },
  {
   "cell_type": "markdown",
   "metadata": {},
   "source": [
    "<hr>\n",
    "**Part (a)** <br>\n",
    "- Simulating a state and symbol sequence pair (π, x) of length 100. <br>\n",
    "- Outputs: π and x "
   ]
  },
  {
   "cell_type": "code",
   "execution_count": 2,
   "metadata": {
    "collapsed": false
   },
   "outputs": [
    {
     "name": "stdout",
     "output_type": "stream",
     "text": [
      "----------------------------------------------------------------------------------------------------\n",
      "\n",
      "Transition Probabilities:\n",
      "\n",
      "        H       S     T\n",
      "H  0.9500  0.0100  0.04\n",
      "S  0.0333  0.9167  0.05\n",
      "T  0.0500  0.0500  0.90\n",
      "\n",
      "\n",
      "Emission Probabilities:\n",
      "\n",
      "      B     I    N\n",
      "H  0.35  0.55  0.1\n",
      "S  0.55  0.15  0.3\n",
      "T  0.10  0.10  0.8\n",
      "\n",
      "----------------------------------------------------------------------------------------------------\n",
      "\n",
      "π | State Sequence:\n",
      "HHHHHHHHHHHHHHHHHHHHHHHTTTHHHHHHHHHHHHHHHHHHHHHHHHHHHHHHHHHHHHHHHHHHHHHHHHHHHHHHHHSSSSTTTTSSSSSSSSSS\n",
      "\n",
      "x | Symbol Sequence:\n",
      "IBIIIIIBIIIIBNBINIIBBBBNNININIIBNIBNNIIIBNIBIBIIBBIINBIIIBIBBBIBIIBIIIIIBIIBBIIIIIBBNNNNBNNNNBNBNBBB\n",
      "\n",
      "----------------------------------------------------------------------------------------------------\n"
     ]
    }
   ],
   "source": [
    "# Simulates an HMM\n",
    "\n",
    "# Transition matrix a, emission matrix e, number of simulations n, starting state s\n",
    "def simulate_HMM(a, e, n, s):\n",
    "    \n",
    "    symbols = []\n",
    "    states = []\n",
    "    \n",
    "    for i in range(n):\n",
    "        \n",
    "        states.append(s)\n",
    "        symbolEmitted = numpy.random.choice(list(e.T.index), 1, p = list(e.T[s]))[0]\n",
    "        symbols.append(symbolEmitted)\n",
    "        s = numpy.random.choice(list(a.T.columns), 1, p = list(a.T[s]))[0]\n",
    "        \n",
    "    return \"\".join(states), \"\".join(symbols)\n",
    "\n",
    "    \n",
    "stateNames = [\"H\", \"S\", \"T\"]\n",
    "symbolNames = [\"B\", \"I\", \"N\"]\n",
    "\n",
    "# Will transpose the matrices for easier access to rows (which are now columns)\n",
    "transitionMatrix = pandas.DataFrame(numpy.matrix('0.95 0.01 0.04;0.0333 0.9167 0.05;0.05 0.05 0.9'), index=stateNames, columns=stateNames)\n",
    "emissionMatrix = pandas.DataFrame(numpy.matrix('0.35 0.55 0.10; 0.55 0.15 0.30; 0.10 0.10 0.80'), index=stateNames, columns=symbolNames)\n",
    "\n",
    "\n",
    "print(\"-\" * 100)\n",
    "print(\"\\nTransition Probabilities:\\n\\n\", transitionMatrix, sep=\"\")\n",
    "print()\n",
    "print(\"\\nEmission Probabilities:\\n\\n\", emissionMatrix, sep=\"\")\n",
    "print()\n",
    "print(\"-\" * 100)\n",
    "\n",
    "stateSeq, symbolSeq = simulate_HMM(transitionMatrix, emissionMatrix, 100, \"H\")\n",
    "\n",
    "print(\"\\nπ | State Sequence:\\n\", stateSeq, sep=\"\")\n",
    "print(\"\\nx | Symbol Sequence:\\n\", symbolSeq, sep=\"\")\n",
    "print()\n",
    "print(\"-\" * 100)"
   ]
  },
  {
   "cell_type": "markdown",
   "metadata": {},
   "source": [
    "<br><br><hr>\n",
    "**Part (b)** <br>\n",
    "- Modifying the supplied forward and backward algorithm functions to return matrices.\n",
    "- Calculating the matrix P where the (k, i)th entry of P is $P(k, i) = Pr(πi = k|x)$, the posterior probability of being in state k at step i.\n",
    "- Notice that P(k, i) is not a log probability. \n",
    "- Show that your method is correct by checking the column sums of P are all 1.\n",
    "\n",
    "<br><br>\n",
    "**Forward Algorithm:**"
   ]
  },
  {
   "cell_type": "code",
   "execution_count": 3,
   "metadata": {
    "collapsed": false
   },
   "outputs": [
    {
     "name": "stdout",
     "output_type": "stream",
     "text": [
      "\n",
      "Log Probability: -99.9040765737\n",
      "\n",
      "Forward Matrix:\n",
      "[[  -1.696   -2.779   -3.409   -4.053   -4.7     -5.349   -5.997   -7.097\n",
      "    -7.745   -8.393   -9.042   -9.69   -10.791  -13.143  -14.217  -14.852\n",
      "   -17.202  -17.813  -18.454  -19.553  -20.652  -21.749  -22.843  -25.187\n",
      "   -27.484  -27.847  -30.151  -30.519  -32.825  -33.193  -33.795  -34.886\n",
      "   -37.232  -37.827  -38.916  -41.26   -43.549  -43.862  -44.455  -45.093\n",
      "   -46.191  -48.541  -49.154  -50.247  -50.89   -51.989  -52.634  -53.282\n",
      "   -54.382  -55.482  -56.128  -56.775  -59.128  -60.206  -60.844  -61.49\n",
      "   -62.138  -63.239  -63.886  -64.986  -66.085  -67.183  -67.827  -68.927\n",
      "   -69.572  -70.22   -71.321  -71.968  -72.616  -73.264  -73.913  -74.561\n",
      "   -75.662  -76.309  -76.958  -78.058  -79.158  -79.804  -80.452  -81.1\n",
      "   -81.749  -82.397  -83.498  -84.597  -86.948  -89.271  -91.418  -92.907\n",
      "   -92.334  -94.427  -95.862  -96.551  -96.959  -96.052  -98.134  -98.289\n",
      "  -100.383 -100.656 -101.443 -102.272]\n",
      " [  -2.996   -3.607   -5.559   -7.444   -9.132  -10.441  -11.374  -10.815\n",
      "   -12.406  -13.595  -14.456  -15.169  -14.536  -15.425  -15.809  -17.707\n",
      "   -18.799  -20.588  -22.332  -22.549  -23.019  -23.584  -24.197  -25.443\n",
      "   -26.68   -28.548  -29.75   -31.555  -32.718  -34.458  -36.278  -36.769\n",
      "   -37.975  -39.855  -40.41   -41.642  -42.856  -44.677  -46.546  -48.39\n",
      "   -48.78   -49.922  -51.759  -52.245  -54.138  -54.558  -56.399  -57.979\n",
      "   -57.851  -58.217  -60.034  -61.565  -61.991  -62.214  -64.075  -65.784\n",
      "   -67.152  -66.835  -68.463  -68.398  -68.779  -69.303  -71.193  -71.589\n",
      "   -73.417  -74.971  -74.813  -76.471  -77.744  -78.654  -79.385  -80.056\n",
      "   -79.412  -80.992  -82.17   -81.724  -82.032  -83.826  -85.314  -86.39\n",
      "   -87.191  -87.884  -87.245  -87.527  -88.618  -89.729  -90.714  -91.49\n",
      "   -91.454  -92.654  -93.737  -94.626  -95.289  -95.175  -96.368  -96.834\n",
      "   -98.087  -98.677  -99.344 -100.024]\n",
      " [  -3.401   -5.526   -7.205   -8.429   -9.293  -10.005  -10.67   -11.323\n",
      "   -12.312  -13.047  -13.715  -14.368  -15.017  -13.927  -16.23   -18.289\n",
      "   -17.709  -20.028  -22.072  -23.487  -24.667  -25.753  -26.794  -25.722\n",
      "   -25.912  -28.285  -28.508  -30.891  -31.131  -33.519  -35.847  -37.932\n",
      "   -37.513  -39.831  -41.914  -41.481  -41.712  -44.095  -46.42   -48.516\n",
      "   -50.038  -49.179  -51.482  -53.486  -55.05   -56.075  -57.122  -57.907\n",
      "   -58.595  -59.587  -60.63   -61.406  -60.011  -62.31   -64.363  -65.826\n",
      "   -66.74   -67.449  -68.447  -69.186  -70.187  -71.23   -72.271  -73.081\n",
      "   -74.083  -74.852  -75.535  -76.527  -77.267  -77.937  -78.59   -79.24\n",
      "   -79.889  -80.877  -81.612  -82.279  -83.27   -84.315  -85.087  -85.768\n",
      "   -86.425  -87.075  -87.724  -88.713  -87.679  -87.899  -88.208  -88.53\n",
      "   -90.935  -91.22   -91.534  -91.855  -92.18   -94.585  -94.873  -97.267\n",
      "   -97.499  -99.874 -102.096 -103.833]]\n"
     ]
    }
   ],
   "source": [
    "# Finds log probability of observing sequence x\n",
    "def forward(a, e, x, startingProbs = []):\n",
    "    \n",
    "    # Create the forward table with 1 row and for each state and x.length columns \n",
    "    F = numpy.zeros([a.shape[0], len(x)])\n",
    "    \n",
    "    \n",
    "    # If starting probs unspecified, assume uniformity\n",
    "    if not len(startingProbs):\n",
    "        startingProbs = [numpy.log(1/a.shape[0]) for x in range(a.shape[0])]\n",
    "    \n",
    "    # Convert to log probs\n",
    "    else:\n",
    "        startingProbs = [numpy.log(x) for x in startingProbs]\n",
    "        \n",
    "        \n",
    "    # Convert A and E to log space (and transpose to get easier access to their rows)\n",
    "    logA = pandas.DataFrame(numpy.log(a.as_matrix().T), index=a.columns, columns=a.index)\n",
    "    logE = pandas.DataFrame(numpy.log(e.as_matrix().T), index=e.columns, columns=e.index)\n",
    "    stateNames = list(logA.columns)\n",
    "    \n",
    "    \n",
    "    # Initialise first column\n",
    "    for row in range(a.shape[0]):\n",
    "        F[row,0] = startingProbs[row] + logE[stateNames[row]][x[0]]\n",
    "        \n",
    "        \n",
    "    # Iterate through remaining columns\n",
    "    for col in range(1,len(x)):\n",
    "        for row in range(a.shape[0]):\n",
    "            F[row,col] = logE[stateNames[row]][x[col]]\n",
    "            \n",
    "            logSumPrevCol = 0\n",
    "            for prevRow in range(a.shape[0]):\n",
    "                logSumPrevCol = logSumPrevCol + math.exp(F[prevRow,col-1] + logA[stateNames[prevRow]][stateNames[row]]) \n",
    "                \n",
    "            F[row,col] = F[row,col] + math.log(logSumPrevCol)\n",
    "        \n",
    "        \n",
    "    # Terminate by returning p(x) in log space\n",
    "    pX = numpy.log(numpy.sum(numpy.exp(F[:,len(x)-1])))     \n",
    "        \n",
    "        \n",
    "    # Forward Matrix & log probability\n",
    "    return F, pX\n",
    "    \n",
    "\n",
    "F, pX = forward(transitionMatrix, emissionMatrix, symbolSeq)\n",
    "print(\"\\nLog Probability: \", pX, \"\\n\\nForward Matrix:\\n\", F, sep=\"\")"
   ]
  },
  {
   "cell_type": "markdown",
   "metadata": {},
   "source": [
    "<br>\n",
    "**Backward Algorithm:**"
   ]
  },
  {
   "cell_type": "code",
   "execution_count": 4,
   "metadata": {
    "collapsed": false
   },
   "outputs": [
    {
     "name": "stdout",
     "output_type": "stream",
     "text": [
      "\n",
      "Log Probability: -99.9040765737\n",
      "\n",
      "Backward Matrix:\n",
      "[[ -98.25   -97.15   -96.502  -95.853  -95.205  -94.557  -93.908  -92.809\n",
      "   -92.161  -91.513  -90.868  -90.23   -89.175  -86.891  -85.799  -85.162\n",
      "   -82.863  -82.22   -81.595  -80.577  -79.54   -78.504  -77.533  -75.726\n",
      "   -73.473  -72.836  -70.548  -69.905  -67.586  -66.94   -66.3    -65.237\n",
      "   -62.971  -62.333  -61.286  -59.108  -56.777  -56.129  -55.481  -54.835\n",
      "   -53.745  -51.416  -50.768  -49.669  -49.021  -47.921  -47.273  -46.625\n",
      "   -45.528  -44.429  -43.781  -43.138  -40.812  -39.713  -39.064  -38.416\n",
      "   -37.768  -36.67   -36.023  -34.927  -33.829  -32.73   -32.082  -30.982\n",
      "   -30.334  -29.686  -28.586  -27.937  -27.289  -26.64   -25.992  -25.344\n",
      "   -24.245  -23.596  -22.948  -21.85   -20.751  -20.102  -19.454  -18.807\n",
      "   -18.163  -17.536  -16.529  -15.665  -15.325  -14.934  -14.284  -12.882\n",
      "   -12.04   -11.662  -11.18   -10.371   -8.904   -8.121   -6.319   -5.37\n",
      "    -3.205   -2.145   -1.073    0.   ]\n",
      " [-100.463 -100.177  -99.523  -98.852  -98.123  -97.219  -95.953  -95.594\n",
      "   -94.473  -92.939  -91.12   -89.189  -88.522  -87.28   -86.653  -84.778\n",
      "   -83.544  -81.636  -79.674  -78.995  -78.319  -77.654  -77.037  -76.138\n",
      "   -75.093  -73.384  -72.295  -70.585  -69.443  -67.726  -65.835  -65.188\n",
      "   -64.025  -62.177  -61.566  -60.626  -59.663  -58.7    -57.351  -55.643\n",
      "   -55.059  -54.031  -52.717  -52.324  -51.05   -50.685  -49.535  -47.973\n",
      "   -47.438  -47.034  -45.732  -44.086  -42.977  -42.668  -41.839  -40.705\n",
      "   -39.157  -38.628  -36.937  -36.347  -35.824  -35.446  -34.239  -33.927\n",
      "   -33.075  -31.899  -31.613  -30.959  -30.289  -29.563  -28.666  -27.411\n",
      "   -27.061  -25.985  -24.496  -23.997  -23.68   -22.797  -21.567  -19.939\n",
      "   -18.08   -16.14   -15.478  -14.887  -14.275  -13.445  -12.404  -11.227\n",
      "   -10.59    -9.577   -8.414   -7.174   -5.901   -5.22    -3.947   -3.267\n",
      "    -1.993   -1.32    -0.652    0.   ]\n",
      " [-100.854  -99.893  -99.244  -98.593  -97.935  -97.253  -96.491  -95.521\n",
      "   -94.788  -93.873  -92.581  -90.89   -88.978  -88.78   -87.229  -85.184\n",
      "   -84.993  -83.649  -82.194  -81.223  -79.722  -77.638  -75.302  -74.984\n",
      "   -74.692  -72.512  -72.239  -70.221  -70.     -68.671  -66.812  -64.658\n",
      "   -64.387  -62.311  -60.016  -59.708  -59.496  -58.766  -57.809  -56.327\n",
      "   -54.318  -54.107  -53.338  -52.365  -51.602  -50.634  -49.916  -49.073\n",
      "   -48.042  -46.921  -45.592  -43.621  -43.411  -42.448  -41.78   -41.066\n",
      "   -40.242  -39.266  -38.378  -37.401  -36.405  -35.432  -34.679  -33.715\n",
      "   -33.039  -32.29   -31.329  -30.68   -30.029  -29.371  -28.69   -27.93\n",
      "   -26.964  -26.259  -25.446  -24.446  -23.48   -22.793  -21.998  -20.89\n",
      "   -19.268  -17.256  -15.07   -12.706  -12.381  -12.058  -11.74   -11.439\n",
      "    -9.108   -8.789   -8.483   -8.212   -8.051   -6.302   -6.152   -4.499\n",
      "    -4.396   -3.428   -2.002    0.   ]]\n"
     ]
    }
   ],
   "source": [
    "# Finds log probability of observing sequence x\n",
    "def backward(a, e, x, startingProbs = []):\n",
    "    \n",
    "    # Create the forward table with 1 row and for each state and x.length columns \n",
    "    B = numpy.zeros([a.shape[0], len(x)])\n",
    "    \n",
    "    \n",
    "    # If starting probs unspecified, assume uniformity\n",
    "    if not len(startingProbs):\n",
    "        startingProbs = [numpy.log(1/a.shape[0]) for x in range(a.shape[0])]\n",
    "    \n",
    "    # Convert to log probs\n",
    "    else:\n",
    "        startingProbs = [numpy.log(x) for x in startingProbs]\n",
    "        \n",
    "        \n",
    "    # Convert A and E to log space\n",
    "    logA = pandas.DataFrame(numpy.log(a.as_matrix().T), index=a.columns, columns=a.index)\n",
    "    logE = pandas.DataFrame(numpy.log(e.as_matrix().T), index=e.columns, columns=e.index)\n",
    "    stateNames = list(logA.columns)\n",
    "    \n",
    "    \n",
    "    # Last column set to zero (ending states not modelled)\n",
    "     \n",
    "    \n",
    "    # Iterate through remaining columns\n",
    "    for col in range(len(x)-2,-1,-1):\n",
    "        for row in range(a.shape[0]):\n",
    "            \n",
    "            for prevRow in range(a.shape[0]):\n",
    "                B[row,col] = B[row,col] + math.exp(logE[stateNames[prevRow]][x[col+1]] + B[prevRow,col+1] + logA[stateNames[row]][stateNames[prevRow]]) \n",
    "                \n",
    "            B[row,col] = numpy.log(B[row,col])\n",
    "     \n",
    "    \n",
    "    # Terminate by returning p(x) in log space\n",
    "    PX = 0\n",
    "    for row in range(a.shape[0]):\n",
    "        PX = PX + math.exp(logE[stateNames[row]][x[0]] + B[row,0] + startingProbs[row]) \n",
    "    PX = numpy.log(PX)\n",
    "        \n",
    "    \n",
    "    # Backward Matrix & log probability\n",
    "    return B, PX\n",
    "\n",
    "  \n",
    "B, PX = backward(transitionMatrix, emissionMatrix, symbolSeq)\n",
    "print(\"\\nLog Probability: \", PX, \"\\n\\nBackward Matrix:\\n\", B, sep=\"\")  "
   ]
  },
  {
   "cell_type": "markdown",
   "metadata": {},
   "source": [
    "<br>\n",
    "**Matrix P** where the (k, i)th entry of P is **P(k, i) = Pr(πi = k|x)**, the **posterior probability** of being in state k at step i."
   ]
  },
  {
   "cell_type": "code",
   "execution_count": 5,
   "metadata": {
    "collapsed": false
   },
   "outputs": [
    {
     "name": "stdout",
     "output_type": "stream",
     "text": [
      "\n",
      "Showing method is correct by checking if column sums of P all add up to 1:\n",
      "\n",
      "[ 1.  1.  1.  1.  1.  1.  1.  1.  1.  1.  1.  1.  1.  1.  1.  1.  1.  1.\n",
      "  1.  1.  1.  1.  1.  1.  1.  1.  1.  1.  1.  1.  1.  1.  1.  1.  1.  1.\n",
      "  1.  1.  1.  1.  1.  1.  1.  1.  1.  1.  1.  1.  1.  1.  1.  1.  1.  1.\n",
      "  1.  1.  1.  1.  1.  1.  1.  1.  1.  1.  1.  1.  1.  1.  1.  1.  1.  1.\n",
      "  1.  1.  1.  1.  1.  1.  1.  1.  1.  1.  1.  1.  1.  1.  1.  1.  1.  1.\n",
      "  1.  1.  1.  1.  1.  1.  1.  1.  1.  1.]\n",
      "\n",
      "\n",
      "P | Posterior Probability Matrix:\n",
      "\n",
      "[[  9.585e-01   9.753e-01   9.929e-01   9.975e-01   9.987e-01   9.989e-01\n",
      "    9.987e-01   9.975e-01   9.983e-01   9.978e-01   9.949e-01   9.836e-01\n",
      "    9.406e-01   8.786e-01   8.940e-01   8.961e-01   8.518e-01   8.787e-01\n",
      "    8.651e-01   7.977e-01   7.503e-01   7.060e-01   6.239e-01   3.645e-01\n",
      "    3.487e-01   4.589e-01   4.520e-01   5.944e-01   6.022e-01   7.961e-01\n",
      "    8.266e-01   8.035e-01   7.410e-01   7.742e-01   7.422e-01   6.293e-01\n",
      "    6.552e-01   9.170e-01   9.683e-01   9.767e-01   9.688e-01   9.486e-01\n",
      "    9.823e-01   9.880e-01   9.938e-01   9.941e-01   9.968e-01   9.968e-01\n",
      "    9.942e-01   9.939e-01   9.954e-01   9.909e-01   9.640e-01   9.853e-01\n",
      "    9.956e-01   9.977e-01   9.975e-01   9.950e-01   9.949e-01   9.908e-01\n",
      "    9.896e-01   9.910e-01   9.952e-01   9.953e-01   9.979e-01   9.983e-01\n",
      "    9.976e-01   9.988e-01   9.991e-01   9.991e-01   9.991e-01   9.988e-01\n",
      "    9.976e-01   9.984e-01   9.981e-01   9.959e-01   9.959e-01   9.980e-01\n",
      "    9.983e-01   9.972e-01   9.923e-01   9.718e-01   8.848e-01   6.988e-01\n",
      "    9.354e-02   1.356e-02   3.036e-03   2.783e-03   1.145e-02   2.059e-03\n",
      "    7.946e-04   8.954e-04   2.584e-03   1.400e-02   1.058e-02   2.341e-02\n",
      "    2.512e-02   5.523e-02   7.339e-02   9.370e-02]\n",
      " [  2.859e-02   2.065e-02   5.643e-03   1.676e-03   6.418e-04   4.281e-04\n",
      "    5.973e-04   1.497e-03   9.356e-04   1.320e-03   3.441e-03   1.164e-02\n",
      "    4.269e-02   6.078e-02   7.746e-02   7.568e-02   8.727e-02   9.835e-02\n",
      "    1.222e-01   1.941e-01   2.384e-01   2.634e-01   2.645e-01   1.870e-01\n",
      "    1.544e-01   1.315e-01   1.175e-01   1.069e-01   1.047e-01   1.023e-01\n",
      "    1.098e-01   1.284e-01   1.230e-01   1.191e-01   1.259e-01   9.412e-02\n",
      "    7.319e-02   3.102e-02   1.844e-02   1.611e-02   1.955e-02   1.745e-02\n",
      "    1.034e-02   9.419e-03   5.076e-03   4.802e-03   2.406e-03   2.362e-03\n",
      "    4.585e-03   4.765e-03   2.846e-03   3.193e-03   6.323e-03   6.885e-03\n",
      "    2.453e-03   1.381e-03   1.653e-03   3.853e-03   4.102e-03   7.899e-03\n",
      "    9.110e-03   7.871e-03   3.976e-03   3.655e-03   1.376e-03   9.438e-04\n",
      "    1.471e-03   5.390e-04   2.950e-04   2.455e-04   2.898e-04   5.191e-04\n",
      "    1.404e-03   8.477e-04   1.158e-03   2.977e-03   3.004e-03   1.207e-03\n",
      "    9.327e-04   1.620e-03   4.667e-03   1.624e-02   5.965e-02   8.126e-02\n",
      "    5.032e-02   3.802e-02   4.017e-02   6.006e-02   1.177e-01   9.760e-02\n",
      "    1.057e-01   1.502e-01   2.764e-01   6.119e-01   6.635e-01   8.213e-01\n",
      "    8.384e-01   9.113e-01   9.115e-01   8.866e-01]\n",
      " [  1.289e-02   4.027e-03   1.437e-03   8.102e-04   6.593e-04   6.403e-04\n",
      "    7.054e-04   9.690e-04   7.494e-04   8.981e-04   1.675e-03   4.730e-03\n",
      "    1.672e-02   6.065e-02   2.857e-02   2.818e-02   6.097e-02   2.297e-02\n",
      "    1.275e-02   8.175e-03   1.127e-02   3.060e-02   1.117e-01   4.485e-01\n",
      "    4.969e-01   4.095e-01   4.305e-01   2.987e-01   2.931e-01   1.016e-01\n",
      "    6.356e-02   6.816e-02   1.360e-01   1.067e-01   1.319e-01   2.766e-01\n",
      "    2.716e-01   5.194e-02   1.324e-02   7.164e-03   1.166e-02   3.397e-02\n",
      "    7.332e-03   2.615e-03   1.173e-03   1.108e-03   7.974e-04   8.449e-04\n",
      "    1.192e-03   1.354e-03   1.803e-03   5.955e-03   2.967e-02   7.800e-03\n",
      "    1.953e-03   9.229e-04   8.428e-04   1.101e-03   9.876e-04   1.252e-03\n",
      "    1.247e-03   1.161e-03   8.710e-04   1.016e-03   7.336e-04   7.191e-04\n",
      "    9.497e-04   6.740e-04   6.167e-04   6.090e-04   6.261e-04   6.987e-04\n",
      "    9.599e-04   7.229e-04   7.818e-04   1.090e-03   1.063e-03   7.435e-04\n",
      "    7.613e-04   1.167e-03   3.061e-03   1.195e-02   5.556e-02   2.199e-01\n",
      "    8.561e-01   9.484e-01   9.568e-01   9.372e-01   8.709e-01   9.003e-01\n",
      "    8.935e-01   8.489e-01   7.210e-01   3.741e-01   3.260e-01   1.553e-01\n",
      "    1.365e-01   3.345e-02   1.508e-02   1.966e-02]]\n"
     ]
    }
   ],
   "source": [
    "def posterior(FMat, BMat, a, x, PX):\n",
    "    P = numpy.zeros([a.shape[0], len(x)])\n",
    "    rows, cols = P.shape\n",
    "    \n",
    "    for r in range(rows):\n",
    "        for c in range(cols):\n",
    "            P[r][c] = (math.exp(FMat[r][c]) * math.exp(BMat[r][c])) / math.exp(PX)\n",
    "            \n",
    "            \n",
    "    # Column sums of P should all be 1.  \n",
    "    colSum = P.sum(axis=0)\n",
    "    \n",
    "    return colSum, numpy.asarray(P)\n",
    "    \n",
    "    \n",
    "colSum, P = posterior(F, B, transitionMatrix, symbolSeq, PX)\n",
    "\n",
    "print(\"\\nShowing method is correct by checking if column sums of P all add up to 1:\\n\\n\", colSum, sep=\"\") \n",
    "print(\"\\n\\nP | Posterior Probability Matrix:\\n\\n\", P, sep=\"\")"
   ]
  },
  {
   "cell_type": "markdown",
   "metadata": {},
   "source": [
    "<br><br><hr>\n",
    "\n",
    "**Part (c)** <br>\n",
    "- Plot of Pr(πi = H|x) against the index i. \n",
    "- Plot i on the horizontal axis (x-axis) \n",
    "- Pr(πi = H|x) on the vertical axis (y-axis) \n",
    "- To embed the plot, include the command **%matplotlib inline** in the first cell of the notebook."
   ]
  },
  {
   "cell_type": "code",
   "execution_count": 6,
   "metadata": {
    "collapsed": false
   },
   "outputs": [
    {
     "name": "stdout",
     "output_type": "stream",
     "text": [
      "\n"
     ]
    },
    {
     "data": {
      "image/png": "[encoded data removed]",
      "text/plain": [
       "<matplotlib.figure.Figure at 0x22cad8c54e0>"
      ]
     },
     "metadata": {},
     "output_type": "display_data"
    },
    {
     "name": "stdout",
     "output_type": "stream",
     "text": [
      "\n",
      "π | True State Sequence: HHHHHHHHHHHHHHHHHHHHHHHTTTHHHHHHHHHHHHHHHHHHHHHHHHHHHHHHHHHHHHHHHHHHHHHHHHHHHHHHHHSSSSTTTTSSSSSSSSSS\n"
     ]
    }
   ],
   "source": [
    "print()\n",
    "plt.title('Pr(πi = H|x) Plot')\n",
    "plt.xlabel(\"$i (step)$\")\n",
    "plt.ylabel(\"Posterior Probability of being in state H\\n$Pr(πi = H|x)$\")\n",
    "plt.plot([i for i in range(100)], P[0][[i for i in range(100)]], 'k-')    # x-axis (Column 1) & y-axis (Column 2)\n",
    "plt.axis([-5, 105, -0.1, 1.1])                                            # Setting the range for the x and y axes\n",
    "plt.axhline(y = 0.5, color = 'r', linestyle = '--')\n",
    "plt.show()\n",
    "\n",
    "print(\"\\nπ | True State Sequence:\", stateSeq)"
   ]
  },
  {
   "cell_type": "markdown",
   "metadata": {},
   "source": [
    "<br><br><hr>\n",
    "\n",
    "**Part (d)** <br>\n",
    "By comparing the plot to the true state sequence π, discuss whether or not\n",
    "you think you could accurately find the α-helices in a given protein sequence\n",
    "using this model."
   ]
  },
  {
   "cell_type": "markdown",
   "metadata": {},
   "source": [
    "**Answer:**<br>\n",
    "By comparing the plot to the true state sequence π, we could fairly accurately find the α-helices in a given protein sequence, since all the peaks, particularly above the red line in the model indicate where the α-helices lie."
   ]
  },
  {
   "cell_type": "markdown",
   "metadata": {},
   "source": [
    "<hr><br><br><br>\n",
    "## Problem 2:\n",
    "\n",
    "- Method that simulates random trees.\n",
    "- Extending the sequence simulator written in Assignment 3 to work with these trees.\n",
    "- Calculating a distance matrix from the simulated sequences and then reconstructing the tree from this distance matrix."
   ]
  },
  {
   "cell_type": "markdown",
   "metadata": {},
   "source": [
    "<hr>\n",
    "**Part (a)** <br>\n",
    "Method that simulates trees according to the Yule model. \n",
    "- **Input:** Number of leaves (**n**) and the branching parameter (**λ**)."
   ]
  },
  {
   "cell_type": "code",
   "execution_count": 7,
   "metadata": {
    "collapsed": false
   },
   "outputs": [],
   "source": [
    "def yule_tree(λ, n):\n",
    "    \n",
    "    nodes = []\n",
    "    for i in range(1, n+1):    \n",
    "        nd = Node(str(i))\n",
    "        nd.set_height(0)\n",
    "        nodes.append(nd) \n",
    "        \n",
    "    times = []\n",
    "    k = n\n",
    "    t = 0.0\n",
    "    while k > 1:\n",
    "        t += numpy.random.exponential(1/(k*λ))\n",
    "        times.append(t)\n",
    "        k -= 1\n",
    "    times.sort() # ascending order\n",
    "    \n",
    "    for t in times:\n",
    "        m = Node()\n",
    "        i, j = numpy.random.choice(nodes, 2, replace=False)\n",
    "        m.set_height(t)\n",
    "        m.add_child(i)\n",
    "        m.add_child(j)\n",
    "        nodes.append(m)\n",
    "        nodes.remove(i)\n",
    "        nodes.remove(j)\n",
    "        \n",
    "    return Tree(nodes[0])"
   ]
  },
  {
   "cell_type": "markdown",
   "metadata": {},
   "source": [
    "<br>\n",
    "- To check the correctness of the implementation, we **simulate 1000 trees** with\n",
    "**λ = 0.5** and **n = 10** and check that the mean height of the trees (that is, the\n",
    "time of the root node) agrees with the **theoretical mean of 3.86**. <br>\n",
    "Using the provided plot_tree method to include a picture of a simulated tree\n",
    "with 10 leaves and λ = 0.5 in the report."
   ]
  },
  {
   "cell_type": "code",
   "execution_count": 8,
   "metadata": {
    "collapsed": false
   },
   "outputs": [
    {
     "name": "stdout",
     "output_type": "stream",
     "text": [
      "\n",
      "Mean height of the trees: 3.86064216362\n",
      "(Agrees with the theoretical mean of 3.86)\n",
      "\n"
     ]
    },
    {
     "data": {
      "image/png": "[encoded data removed]",
      "text/plain": [
       "<matplotlib.figure.Figure at 0x22cadf9fe10>"
      ]
     },
     "metadata": {},
     "output_type": "display_data"
    }
   ],
   "source": [
    "λ = 0.5           # Branching parameter\n",
    "n = 10            # Number of leaves\n",
    "numTrees = 1000\n",
    "\n",
    "print(\"\\nMean height of the trees:\", numpy.mean([yule_tree(λ, n).get_root().get_height() for num in range(numTrees)]))\n",
    "print(\"(Agrees with the theoretical mean of 3.86)\\n\")\n",
    "\n",
    "# Plotting the simulated tree:\n",
    "tree = yule_tree(λ, n)\n",
    "plot_tree(tree)"
   ]
  },
  {
   "cell_type": "markdown",
   "metadata": {},
   "source": [
    "<br><br><hr>\n",
    "**Part (b)** <br>\n",
    "Method to simulate sequences down a simulated tree according to the Jukes-Cantor model. <br>\n",
    "\n",
    "- Input: Tree with **n leaves**, **sequence length L**, and a **mutation rate µ**. \n",
    "- Output: **Matrix of sequences** corresponding to nodes in the tree or the **tree with sequences stored at the nodes**.\n",
    "\n",
    "Your method should generate a uniform random sequence of length L at the root node and recursively mutate it down the branches of the tree, using the node heights to calculate branch length.<br><br><br> \n",
    "\n",
    "**Pseudocode methods** for *random sequence generation* and *mutation* down a lineage are provided below:"
   ]
  },
  {
   "cell_type": "code",
   "execution_count": 9,
   "metadata": {
    "collapsed": true
   },
   "outputs": [],
   "source": [
    "# Pseudocode methods\n",
    "\n",
    "# ---------------------------------------------------------------------------------------------------------------\n",
    "# The method randseq simulates a uniform random sequence.\n",
    "\n",
    "# randseq(L)\n",
    "    # for (i in 1 to L)\n",
    "        # seq[i] = choice([’A’,’C’,’G’,’T’], [0.25,0.25,0.25,0.25])\n",
    "    # return seq\n",
    "# ---------------------------------------------------------------------------------------------------------------\n",
    "\n",
    "\n",
    "# ---------------------------------------------------------------------------------------------------------------\n",
    "# The method mutate mutates a given sequence according to the Jukes-Cantor model of mutation over a given length.\n",
    "# The mutate method below allows “mutations” from a base to itself. \n",
    "# The uncorrected mutation rate (µ rather than (3/4)µ) can therefore be used.\n",
    "\n",
    "# mutate(X, t, mu)\n",
    "    # L = X.length()\n",
    "    # \\\\ the number of mutations is Poisson with total rate L*mu*t\n",
    "    # numMutation = randpoiss(L*mu*t)\n",
    "    # \\\\ for each mutation, choose a site to mutate and mutate it\n",
    "    # for (i in 1 to numMutation)\n",
    "        # \\\\ choose a site\n",
    "        # site = ceiling(random()*L)\n",
    "        # \\\\ mutate that site\n",
    "        # X[site] = choice([’A’,’C’,’G’,’T’], [0.25,0.25,0.25,0.25])\n",
    "    # return X\n",
    "# ---------------------------------------------------------------------------------------------------------------"
   ]
  },
  {
   "cell_type": "markdown",
   "metadata": {},
   "source": [
    "<br><br>\n",
    "**The method randseq simulates a uniform random sequence of given length L.**"
   ]
  },
  {
   "cell_type": "code",
   "execution_count": 10,
   "metadata": {
    "collapsed": false
   },
   "outputs": [],
   "source": [
    "def randseq(L):\n",
    "    seq = []\n",
    "    for i in range(L):\n",
    "        seq.append(str(numpy.random.choice(['A','C','G','T'])))\n",
    "    return ''.join(seq)"
   ]
  },
  {
   "cell_type": "markdown",
   "metadata": {},
   "source": [
    "<br>\n",
    "**The method mutate mutates a given sequence according to the Jukes-Cantor model of mutation over a given length.**"
   ]
  },
  {
   "cell_type": "code",
   "execution_count": 11,
   "metadata": {
    "collapsed": false
   },
   "outputs": [],
   "source": [
    "def mutate(X, t, mu):\n",
    "    L = len(X)\n",
    "    X_array = list(X)\n",
    "    numMutation = numpy.random.poisson(L*mu*t)                     # the number of mutations is Poisson with total rate L*mu*t\n",
    "    for i in range(numMutation):                                   # for each mutation, choose a site to mutate and mutate it\n",
    "        site = math.ceil(random.random() * L)                      # choose a site\n",
    "        X_array[site-1] = numpy.random.choice(['A','C','G','T'])   # mutate that site\n",
    "    return ''.join(X_array)"
   ]
  },
  {
   "cell_type": "markdown",
   "metadata": {},
   "source": [
    "<br>\n",
    "**Method to simulate sequences down a simulated tree according to the Jukes-Cantor model.** "
   ]
  },
  {
   "cell_type": "code",
   "execution_count": 12,
   "metadata": {
    "collapsed": true
   },
   "outputs": [],
   "source": [
    "# Takes a tree (node) with n leaves, sequence length L, and a mutation rate µ (mu)\n",
    "\n",
    "def simulateSeq(node, mu, L = None):\n",
    "    if L:\n",
    "        node = node.get_root()\n",
    "        node.set_sequence(randseq(L))\n",
    "    if not node.is_root():\n",
    "        parent = node.get_parent()\n",
    "        t = parent.get_height() - node.get_height()\n",
    "        S = mutate(parent.get_sequence(), t, mu)\n",
    "        node.set_sequence(S)\n",
    "    if not node.is_leaf():\n",
    "        for child in node.get_children():\n",
    "            simulateSeq(child, mu)"
   ]
  },
  {
   "cell_type": "markdown",
   "metadata": {},
   "source": [
    "<br><br><hr>\n",
    "**Part (c)** <br>\n",
    "Write a method to calculate the **Jukes-Cantor distance matrix *d***, from a set\n",
    "of sequences, where **dij** is the *distance between the ith and the jth sequences*."
   ]
  },
  {
   "cell_type": "code",
   "execution_count": 13,
   "metadata": {
    "collapsed": true
   },
   "outputs": [],
   "source": [
    "# Using the formulas given in the assignment:\n",
    "\n",
    "def D(x, y):\n",
    "    return (sum(1 for a, b in zip(x, y) if a != b))\n",
    "\n",
    "def f(x, y):\n",
    "    L = len(x)\n",
    "    return (min(D(x,y) / L, 3/4 - 1/L))\n",
    "\n",
    "def d(x, y):\n",
    "    return (- 3/4 * numpy.log(1 - (4/3 * f(x, y))))\n",
    "\n",
    "def distMat(seqs): # Distance matrix\n",
    "    seqs = list(map(Node.get_sequence, seqs))          # Node.get_sequence (Function), seqs (Iterable)\n",
    "    return [[d(x, y) for y in seqs] for x in seqs]"
   ]
  },
  {
   "cell_type": "markdown",
   "metadata": {},
   "source": [
    "<br>\n",
    "Include a ***simulated set of sequences*** of length **L = 20** from the tree leaves and\n",
    "corresponding ***distance matrix*** in your report for a tree with **n = 10**, **λ = 0.5**\n",
    "and mutation parameter **µ = 0.1**."
   ]
  },
  {
   "cell_type": "code",
   "execution_count": 14,
   "metadata": {
    "collapsed": false
   },
   "outputs": [
    {
     "name": "stdout",
     "output_type": "stream",
     "text": [
      "\n",
      "Simulated set of sequences:\n",
      "\n",
      "1  => CGTGCGTGTTCCTGTTGATA\n",
      "2  => GGTGCGTGTTCCTGTTGATA\n",
      "3  => GGCGCATGTTTGTCTAGGTA\n",
      "4  => GGTGCTTGTTACTGTAAATA\n",
      "5  => GGTGCGTGTTCCTGTAGATT\n",
      "6  => GGTGCGTGTTCTTGTAGTTT\n",
      "7  => GGTGCGTGTTCCTGTAGATT\n",
      "8  => GGTGCGTGTTCCTGTAGATT\n",
      "9  => GATGCGTGTTCCTGTAGATC\n",
      "10 => GGCGCATTTTTCTGTAGCTA\n",
      "\n",
      "\n",
      "Corresponding distance matrix:\n",
      "\n",
      "0.000 0.052 0.572 0.304 0.167 0.304 0.167 0.167 0.233 0.471\n",
      "0.052 0.000 0.471 0.233 0.107 0.233 0.107 0.107 0.167 0.383\n",
      "0.572 0.471 0.000 0.471 0.471 0.471 0.471 0.471 0.572 0.233\n",
      "0.304 0.233 0.471 0.000 0.233 0.383 0.233 0.233 0.304 0.383\n",
      "0.167 0.107 0.471 0.233 0.000 0.107 0.000 0.000 0.107 0.383\n",
      "0.304 0.233 0.471 0.383 0.107 0.000 0.107 0.107 0.233 0.471\n",
      "0.167 0.107 0.471 0.233 0.000 0.107 0.000 0.000 0.107 0.383\n",
      "0.167 0.107 0.471 0.233 0.000 0.107 0.000 0.000 0.107 0.383\n",
      "0.233 0.167 0.572 0.304 0.107 0.233 0.107 0.107 0.000 0.471\n",
      "0.471 0.383 0.233 0.383 0.383 0.471 0.383 0.383 0.471 0.000\n"
     ]
    }
   ],
   "source": [
    "L = 20\n",
    "µ = 0.1\n",
    "\n",
    "# Using the previously simulated yule tree with n = 10, λ = 0.5.\n",
    "simulateSeq(tree, µ, L)\n",
    "\n",
    "#--------------------------------------------------------------------------------------------------------\n",
    "# Getting simulated tree sequences\n",
    "def getSequences(tree):\n",
    "    return sorted(tree.get_leaves(), key=lambda l: int(l.get_label()))\n",
    "\n",
    "sequences = getSequences(tree)\n",
    "#--------------------------------------------------------------------------------------------------------\n",
    "\n",
    "#--------------------------------------------------------------------------------------------------------\n",
    "# Printing set of sequences\n",
    "print(\"\\nSimulated set of sequences:\\n\")\n",
    "for seq in sequences:\n",
    "    print('{:2} => {}'.format(seq.get_label(), seq.get_sequence())) #{:2} = Assigning 2 spaces before =>\n",
    "#--------------------------------------------------------------------------------------------------------\n",
    "\n",
    "#--------------------------------------------------------------------------------------------------------\n",
    "# Printing distance matrix for all sequences \n",
    "def printMat(matrix):\n",
    "    for row in matrix:\n",
    "        print(' '.join(map('{:.3f}'.format, [x+0 for x in row])))  #Formatting to 3 significant figures\n",
    "\n",
    "print(\"\\n\\nCorresponding distance matrix:\\n\")\n",
    "printMat(distMat(sequences))\n",
    "#--------------------------------------------------------------------------------------------------------"
   ]
  },
  {
   "cell_type": "markdown",
   "metadata": {},
   "source": [
    "<br><br><hr>\n",
    "**Part (d)**"
   ]
  },
  {
   "cell_type": "code",
   "execution_count": 15,
   "metadata": {
    "collapsed": true
   },
   "outputs": [],
   "source": [
    "def simulateByLength(tree, L):\n",
    "    simulateSeq(tree, 0.1, L) # Fixed µ = 0.1\n",
    "    D = distMat(getSequences(tree))\n",
    "    return D, plot_tree(compute_upgma_tree(D))"
   ]
  },
  {
   "cell_type": "markdown",
   "metadata": {},
   "source": [
    "<br>\n",
    "**Plot of the original tree:**"
   ]
  },
  {
   "cell_type": "code",
   "execution_count": 16,
   "metadata": {
    "collapsed": false
   },
   "outputs": [
    {
     "data": {
      "image/png": "[encoded data removed]",
      "text/plain": [
       "<matplotlib.figure.Figure at 0x22cadffee10>"
      ]
     },
     "metadata": {},
     "output_type": "display_data"
    }
   ],
   "source": [
    "plot_tree(tree)"
   ]
  },
  {
   "cell_type": "markdown",
   "metadata": {},
   "source": [
    "<br><br>\n",
    "- **Simulating three sets of sequences** with lengths **L = 20**, **L = 50** and **L = 200**, respectively, with fixed **µ = 0.1**. \n",
    "- Calculating & **printing distance matrix for each**.\n",
    "- **Plotting the reconstructed trees**."
   ]
  },
  {
   "cell_type": "code",
   "execution_count": 17,
   "metadata": {
    "collapsed": false
   },
   "outputs": [
    {
     "data": {
      "image/png": "[encoded data removed]",
      "text/plain": [
       "<matplotlib.figure.Figure at 0x22cae11d438>"
      ]
     },
     "metadata": {},
     "output_type": "display_data"
    },
    {
     "name": "stdout",
     "output_type": "stream",
     "text": [
      "\n",
      "\n",
      "Distance Matrix | Length = 20:\n",
      "\n",
      "0.000 0.052 0.233 0.471 0.471 0.383 0.471 0.471 0.572 0.383\n",
      "0.052 0.000 0.167 0.383 0.471 0.304 0.471 0.471 0.471 0.304\n",
      "0.233 0.167 0.000 0.167 0.233 0.107 0.233 0.233 0.233 0.107\n",
      "0.471 0.383 0.167 0.000 0.471 0.304 0.471 0.471 0.471 0.304\n",
      "0.471 0.471 0.233 0.471 0.000 0.107 0.052 0.052 0.383 0.383\n",
      "0.383 0.304 0.107 0.304 0.107 0.000 0.107 0.107 0.233 0.233\n",
      "0.471 0.471 0.233 0.471 0.052 0.107 0.000 0.000 0.383 0.383\n",
      "0.471 0.471 0.233 0.471 0.052 0.107 0.000 0.000 0.383 0.383\n",
      "0.572 0.471 0.233 0.471 0.383 0.233 0.383 0.383 0.000 0.383\n",
      "0.383 0.304 0.107 0.304 0.383 0.233 0.383 0.383 0.383 0.000\n",
      "\n"
     ]
    }
   ],
   "source": [
    "matrix_20, reconstructedTree = simulateByLength(tree, 20)\n",
    "\n",
    "print(\"\\n\\nDistance Matrix | Length = 20:\\n\")\n",
    "printMat(matrix_20)\n",
    "print()"
   ]
  },
  {
   "cell_type": "code",
   "execution_count": 18,
   "metadata": {
    "collapsed": false
   },
   "outputs": [
    {
     "data": {
      "image/png": "[encoded data removed]",
      "text/plain": [
       "<matplotlib.figure.Figure at 0x22cae241eb8>"
      ]
     },
     "metadata": {},
     "output_type": "display_data"
    },
    {
     "name": "stdout",
     "output_type": "stream",
     "text": [
      "\n",
      "\n",
      "Distance Matrix | Length = 50:\n",
      "\n",
      "0.000 0.085 0.453 0.663 0.453 0.490 0.417 0.453 0.490 0.453\n",
      "0.085 0.000 0.530 0.663 0.417 0.530 0.453 0.417 0.453 0.453\n",
      "0.453 0.530 0.000 0.260 0.490 0.572 0.490 0.490 0.490 0.180\n",
      "0.663 0.663 0.260 0.000 0.572 0.713 0.572 0.572 0.663 0.319\n",
      "0.453 0.417 0.490 0.572 0.000 0.180 0.020 0.000 0.131 0.490\n",
      "0.490 0.530 0.572 0.713 0.180 0.000 0.206 0.180 0.180 0.663\n",
      "0.417 0.453 0.490 0.572 0.020 0.206 0.000 0.020 0.155 0.490\n",
      "0.453 0.417 0.490 0.572 0.000 0.180 0.020 0.000 0.131 0.490\n",
      "0.490 0.453 0.490 0.663 0.131 0.180 0.155 0.131 0.000 0.530\n",
      "0.453 0.453 0.180 0.319 0.490 0.663 0.490 0.490 0.530 0.000\n",
      "\n"
     ]
    }
   ],
   "source": [
    "matrix_50, reconstructedTree = simulateByLength(tree, 50)\n",
    "\n",
    "print(\"\\n\\nDistance Matrix | Length = 50:\\n\")\n",
    "printMat(matrix_50)\n",
    "print()"
   ]
  },
  {
   "cell_type": "code",
   "execution_count": 19,
   "metadata": {
    "collapsed": false
   },
   "outputs": [
    {
     "data": {
      "image/png": "[encoded data removed]",
      "text/plain": [
       "<matplotlib.figure.Figure at 0x22cae2167b8>"
      ]
     },
     "metadata": {},
     "output_type": "display_data"
    },
    {
     "name": "stdout",
     "output_type": "stream",
     "text": [
      "\n",
      "\n",
      "Distance Matrix | Length = 200:\n",
      "\n",
      "0.000 0.096 0.409 0.462 0.409 0.540 0.417 0.409 0.481 0.409\n",
      "0.096 0.000 0.400 0.481 0.409 0.550 0.417 0.409 0.510 0.417\n",
      "0.409 0.400 0.000 0.239 0.417 0.593 0.417 0.417 0.471 0.174\n",
      "0.462 0.481 0.239 0.000 0.471 0.627 0.471 0.471 0.540 0.239\n",
      "0.409 0.409 0.417 0.471 0.000 0.219 0.031 0.020 0.167 0.435\n",
      "0.540 0.550 0.593 0.627 0.219 0.000 0.206 0.193 0.246 0.561\n",
      "0.417 0.417 0.417 0.471 0.031 0.206 0.000 0.010 0.155 0.426\n",
      "0.409 0.409 0.417 0.471 0.020 0.193 0.010 0.000 0.143 0.426\n",
      "0.481 0.510 0.471 0.540 0.167 0.246 0.155 0.143 0.000 0.453\n",
      "0.409 0.417 0.174 0.239 0.435 0.561 0.426 0.426 0.453 0.000\n",
      "\n"
     ]
    }
   ],
   "source": [
    "matrix_200, reconstructedTree = simulateByLength(tree, 200)\n",
    "\n",
    "print(\"\\n\\nDistance Matrix | Length = 200:\\n\")\n",
    "printMat(matrix_200)\n",
    "print()"
   ]
  },
  {
   "cell_type": "markdown",
   "metadata": {},
   "source": [
    "<br>\n",
    "**Comment on the quality of the reconstructions and the effect that increasing\n",
    "the sequence length has on the accuracy of the reconstruction.**<br>\n",
    "Generally, increasing the sequence length tends to increase the accuracy of the tree reconstructions. Even so, with more sequence data the accuracy of the node heights improve substantially."
   ]
  }
 ],
 "metadata": {
  "kernelspec": {
   "display_name": "Python 3",
   "language": "python",
   "name": "python3"
  },
  "language_info": {
   "codemirror_mode": {
    "name": "ipython",
    "version": 3
   },
   "file_extension": ".py",
   "mimetype": "text/x-python",
   "name": "python",
   "nbconvert_exporter": "python",
   "pygments_lexer": "ipython3",
   "version": "3.6.0"
  }
 },
 "nbformat": 4,
 "nbformat_minor": 2
}
